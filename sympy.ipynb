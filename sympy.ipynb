{
 "cells": [
  {
   "cell_type": "code",
   "execution_count": 2,
   "metadata": {},
   "outputs": [],
   "source": [
    "from sympy import *\n",
    "from sympy.vector import *\n",
    "init_printing()"
   ]
  },
  {
   "cell_type": "code",
   "execution_count": 3,
   "metadata": {},
   "outputs": [
    {
     "name": "stdout",
     "output_type": "stream",
     "text": [
      "gradient field =  (C.y**2*cos(C.x) + C.z)*C.i + (2*C.y*sin(C.x))*C.j + C.x*C.k\n",
      "gradient at a(3,4) =  5*C.i\n",
      "directional derivative =  5\n"
     ]
    }
   ],
   "source": [
    "## finding directional derivative of a vector field\n",
    "from sympy.vector import CoordSys3D, Del\n",
    "C = CoordSys3D('C')\n",
    "delop = Del()\n",
    "x, y, z = C.x, C.y, C.z\n",
    "i, j, k = C.i, C.j, C.k\n",
    "\n",
    "\n",
    "f = y**2*sin(x) + x*z\n",
    "a = [0, 2, 1]\n",
    "v = 1*i - 2*k\n",
    "\n",
    "gradient_field = delop(f).doit()\n",
    "print(f\"gradient field = \", gradient_field)\n",
    "\n",
    "\n",
    "## at a(3,4)\n",
    "grad = gradient_field.subs({C.x:a[0], C.y:a[1], C.z:a[2]})\n",
    "print(f\"gradient at a(3,4) = \", grad)\n",
    "\n",
    "\n",
    "## finding in direction of v (sqrt(3)/2, 1/2)\n",
    "dir_deriv = grad.dot(v)\n",
    "print(f\"directional derivative = \", dir_deriv)"
   ]
  },
  {
   "cell_type": "code",
   "execution_count": 4,
   "metadata": {},
   "outputs": [
    {
     "data": {
      "image/png": "[encoded data removed]",
      "text/latex": [
       "$\\displaystyle \\left(-5\\right)\\mathbf{\\hat{j}_{C}} + \\left(-3\\right)\\mathbf{\\hat{k}_{C}}$"
      ],
      "text/plain": [
       "(-5) j_C + (-3) k_C"
      ]
     },
     "execution_count": 4,
     "metadata": {},
     "output_type": "execute_result"
    }
   ],
   "source": [
    "### Finding curl in 3d\n",
    "f = 4*i + sin(x*z)*j + (cos(y) +  sin(z))* k\n",
    "f2 = (y-4*z)*i + (-2*x)*j + (z + x)*k\n",
    "curl(f2)"
   ]
  },
  {
   "cell_type": "code",
   "execution_count": 5,
   "metadata": {},
   "outputs": [
    {
     "data": {
      "image/png": "[encoded data removed]",
      "text/latex": [
       "$\\displaystyle \\left(- \\mathbf{{x}_{C}} \\cos{\\left(\\mathbf{{x}_{C}} \\mathbf{{z}_{C}} \\right)} - \\sin{\\left(\\mathbf{{y}_{C}} \\right)}\\right)\\mathbf{\\hat{i}_{C}} + \\left(\\mathbf{{z}_{C}} \\cos{\\left(\\mathbf{{x}_{C}} \\mathbf{{z}_{C}} \\right)}\\right)\\mathbf{\\hat{k}_{C}}$"
      ],
      "text/plain": [
       "(-x_C⋅cos(x_C⋅z_C) - sin(y_C)) i_C + (z_C⋅cos(x_C⋅z_C)) k_C"
      ]
     },
     "execution_count": 5,
     "metadata": {},
     "output_type": "execute_result"
    }
   ],
   "source": [
    "curl(f)"
   ]
  },
  {
   "cell_type": "code",
   "execution_count": 6,
   "metadata": {},
   "outputs": [
    {
     "data": {
      "image/png": "[encoded data removed]",
      "text/latex": [
       "$\\displaystyle \\left(- \\mathbf{{x}_{C}} \\cos{\\left(\\mathbf{{x}_{C}} \\mathbf{{z}_{C}} \\right)} - \\sin{\\left(\\mathbf{{y}_{C}} \\right)}\\right)\\mathbf{\\hat{i}_{C}} + \\left(\\mathbf{{z}_{C}} \\cos{\\left(\\mathbf{{x}_{C}} \\mathbf{{z}_{C}} \\right)}\\right)\\mathbf{\\hat{k}_{C}}$"
      ],
      "text/plain": [
       "(-x_C⋅cos(x_C⋅z_C) - sin(y_C)) i_C + (z_C⋅cos(x_C⋅z_C)) k_C"
      ]
     },
     "execution_count": 6,
     "metadata": {},
     "output_type": "execute_result"
    }
   ],
   "source": [
    "delop.cross(f).doit()"
   ]
  }
 ],
 "metadata": {
  "kernelspec": {
   "display_name": "Python 3",
   "language": "python",
   "name": "python3"
  },
  "language_info": {
   "codemirror_mode": {
    "name": "ipython",
    "version": 3
   },
   "file_extension": ".py",
   "mimetype": "text/x-python",
   "name": "python",
   "nbconvert_exporter": "python",
   "pygments_lexer": "ipython3",
   "version": "3.9.6"
  },
  "orig_nbformat": 4
 },
 "nbformat": 4,
 "nbformat_minor": 2
}
