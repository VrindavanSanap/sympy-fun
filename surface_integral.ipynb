{
 "cells": [
  {
   "cell_type": "code",
   "execution_count": 20,
   "metadata": {},
   "outputs": [],
   "source": [
    "from sympy import *\n",
    "init_printing()\n",
    "x, y, z = symbols(\"x y z\")\n",
    "phi, theta = symbols(\"phi theta\")\n",
    "r = symbols(\"r\")"
   ]
  },
  {
   "cell_type": "code",
   "execution_count": 16,
   "metadata": {},
   "outputs": [
    {
     "data": {
      "image/png": "[encoded data removed]",
      "text/latex": [
       "$\\displaystyle \\left( r \\sin{\\left(\\phi \\right)} \\cos{\\left(\\theta \\right)}, \\  r \\sin{\\left(\\phi \\right)} \\sin{\\left(\\theta \\right)}, \\  r \\cos{\\left(\\phi \\right)}\\right)$"
      ],
      "text/plain": [
       "(r⋅sin(φ)⋅cos(θ), r⋅sin(φ)⋅sin(θ), r⋅cos(φ))"
      ]
     },
     "execution_count": 16,
     "metadata": {},
     "output_type": "execute_result"
    }
   ],
   "source": [
    "x = r * cos(theta) * sin(phi)\n",
    "y = r * sin(theta) * sin(phi)\n",
    "z = r * cos(phi)\n",
    "x, y, z"
   ]
  },
  {
   "cell_type": "code",
   "execution_count": 23,
   "metadata": {},
   "outputs": [
    {
     "name": "stdout",
     "output_type": "stream",
     "text": [
      "0\n"
     ]
    }
   ],
   "source": [
    "from sympy.vector import CoordSys3D\n",
    "\n",
    "# Define the coordinate system\n",
    "N = CoordSys3D('N')\n",
    "\n",
    "# Define the vectors\n",
    "A = x.diff(theta) * N.i + y.diff(theta) * N.j + z.diff(theta) * N.k\n",
    "B = x.diff(phi) * N.i + y.diff(phi) * N.j + z.diff(phi) * N.k\n",
    "# Calculate the cross product\n",
    "C = A.cross(B)\n",
    "\n",
    "# Print the result\n",
    "print(C.subs({r:6, theta:(pi*4)/3, phi:(pi*2)/12}))\n"
   ]
  },
  {
   "cell_type": "code",
   "execution_count": 12,
   "metadata": {},
   "outputs": [],
   "source": [
    "A = (2*y - x).diff(x) * N.i + (4*x + 3*y).diff(x) * N.j + (x-y).diff(x) * N.k\n",
    "B = (2*y - x).diff(y) * N.i + (4*x + 3*y).diff(y) * N.j + (x-y).diff(y) * N.k"
   ]
  },
  {
   "cell_type": "code",
   "execution_count": 13,
   "metadata": {},
   "outputs": [
    {
     "data": {
      "image/png": "[encoded data removed]",
      "text/latex": [
       "$\\displaystyle \\left(-7\\right)\\mathbf{\\hat{i}_{N}} + \\mathbf{\\hat{j}_{N}} + \\left(-11\\right)\\mathbf{\\hat{k}_{N}}$"
      ],
      "text/plain": [
       "(-7) i_N + j_N + (-11) k_N"
      ]
     },
     "execution_count": 13,
     "metadata": {},
     "output_type": "execute_result"
    }
   ],
   "source": [
    "A.cross(B)"
   ]
  },
  {
   "cell_type": "code",
   "execution_count": 14,
   "metadata": {},
   "outputs": [
    {
     "data": {
      "image/png": "[encoded data removed]",
      "text/latex": [
       "$\\displaystyle \\left( x, \\  r \\cos{\\left(\\theta \\right)}, \\  r \\sin{\\left(\\theta \\right)}\\right)$"
      ],
      "text/plain": [
       "(x, r⋅cos(θ), r⋅sin(θ))"
      ]
     },
     "execution_count": 14,
     "metadata": {},
     "output_type": "execute_result"
    }
   ],
   "source": [
    "x = x\n",
    "y = r * cos(theta)\n",
    "z = r * sin(theta)\n",
    "x, y, z"
   ]
  },
  {
   "cell_type": "code",
   "execution_count": 15,
   "metadata": {},
   "outputs": [
    {
     "name": "stdout",
     "output_type": "stream",
     "text": [
      "(5*sqrt(2)/2)*N.j + (-5*sqrt(2)/2)*N.k\n"
     ]
    }
   ],
   "source": [
    "A = x.diff(theta) * N.i + y.diff(theta) * N.j + z.diff(theta) * N.k\n",
    "B = x.diff(x) * N.i + y.diff(x) * N.j + z.diff(x) * N.k\n",
    "C = A.cross(B)\n",
    "print(C.subs({r:5, theta:(pi*7)/4, x:5}))\n"
   ]
  },
  {
   "cell_type": "code",
   "execution_count": 25,
   "metadata": {},
   "outputs": [
    {
     "data": {
      "image/png": "[encoded data removed]",
      "text/latex": [
       "$\\displaystyle \\left(-6\\right)\\mathbf{\\hat{i}_{N}} + \\left(-20\\right)\\mathbf{\\hat{j}_{N}} + \\left(10\\right)\\mathbf{\\hat{k}_{N}}$"
      ],
      "text/plain": [
       "(-6) i_N + (-20) j_N + (10) k_N"
      ]
     },
     "execution_count": 25,
     "metadata": {},
     "output_type": "execute_result"
    }
   ],
   "source": [
    "A = (-5*y ).diff(x) * N.i + (2*x + 1*y).diff(x) * N.j + (4*x-y).diff(x) * N.k\n",
    "B = (-5*y ).diff(y) * N.i + (2*x + 1*y).diff(y) * N.j + (4*x-y).diff(y) * N.k\n",
    "A.cross(B)"
   ]
  },
  {
   "cell_type": "code",
   "execution_count": null,
   "metadata": {},
   "outputs": [],
   "source": []
  }
 ],
 "metadata": {
  "kernelspec": {
   "display_name": "Python 3",
   "language": "python",
   "name": "python3"
  },
  "language_info": {
   "codemirror_mode": {
    "name": "ipython",
    "version": 3
   },
   "file_extension": ".py",
   "mimetype": "text/x-python",
   "name": "python",
   "nbconvert_exporter": "python",
   "pygments_lexer": "ipython3",
   "version": "3.9.6"
  },
  "orig_nbformat": 4
 },
 "nbformat": 4,
 "nbformat_minor": 2
}
