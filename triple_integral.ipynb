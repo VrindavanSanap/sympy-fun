{
 "cells": [
  {
   "cell_type": "code",
   "execution_count": 1,
   "metadata": {},
   "outputs": [],
   "source": [
    "from sympy import *\n",
    "init_printing()\n"
   ]
  },
  {
   "attachments": {},
   "cell_type": "markdown",
   "metadata": {},
   "source": [
    "Double integral in rectangular coordinates\n",
    "\n",
    "dA  = dy * dx\n",
    "\n",
    "Double integral in polar coordinates\n",
    "\n",
    "dA  = r * dtheta * dr\n",
    "\n",
    "Triple integral in rectangular coordinates\n",
    "\n",
    "dV  = dx * dy * dz\n",
    "\n",
    "Triple integral in cylindrical coordinates\n",
    "\n",
    "x = r * cos(phi)\n",
    "y = r * sin(phi)\n",
    "z = z\n",
    "\n",
    "dV  = dA * dz \n",
    "    = r * dtheta * dz \n",
    "\n",
    "Triple integral in spherical coordinates\n",
    "\n",
    "dV = dr * r * dphi * r *  sin(phi) * dtheta"
   ]
  },
  {
   "cell_type": "code",
   "execution_count": 2,
   "metadata": {},
   "outputs": [],
   "source": [
    "x, y, z = symbols(\"x y z\")\n",
    "phi, theta = symbols(\"phi theta\")\n",
    "r = symbols(\"r\")\n",
    "\n"
   ]
  },
  {
   "attachments": {},
   "cell_type": "markdown",
   "metadata": {},
   "source": [
    "Spherical"
   ]
  },
  {
   "cell_type": "code",
   "execution_count": 81,
   "metadata": {},
   "outputs": [
    {
     "data": {
      "image/png": "[encoded data removed]",
      "text/latex": [
       "$\\displaystyle r^{2} \\sin{\\left(\\phi \\right)}$"
      ],
      "text/plain": [
       " 2       \n",
       "r ⋅sin(φ)"
      ]
     },
     "execution_count": 81,
     "metadata": {},
     "output_type": "execute_result"
    }
   ],
   "source": [
    "x = r * sin(phi) * cos(theta)\n",
    "y = r * sin(phi) * sin(theta)\n",
    "z = r * cos(phi)\n",
    "M = Matrix([x, y, z])\n",
    "jacobian_matrix  = M.jacobian([r, phi,theta])\n",
    "jacobian_determinant = jacobian_matrix.det()\n",
    "jacobian_determinant = jacobian_determinant.simplify()\n",
    "jacobian_determinant"
   ]
  },
  {
   "cell_type": "code",
   "execution_count": 82,
   "metadata": {},
   "outputs": [
    {
     "data": {
      "image/png": "[encoded data removed]",
      "text/latex": [
       "$\\displaystyle r^{6} \\sin^{4}{\\left(\\phi \\right)} \\sin^{3}{\\left(\\theta \\right)} \\cos{\\left(\\phi \\right)}$"
      ],
      "text/plain": [
       " 6    4       3          \n",
       "r ⋅sin (φ)⋅sin (θ)⋅cos(φ)"
      ]
     },
     "execution_count": 82,
     "metadata": {},
     "output_type": "execute_result"
    }
   ],
   "source": [
    "y**3 * z * jacobian_determinant"
   ]
  },
  {
   "cell_type": "code",
   "execution_count": 85,
   "metadata": {},
   "outputs": [
    {
     "data": {
      "image/png": "[encoded data removed]",
      "text/latex": [
       "$\\displaystyle r^{4} \\sin^{3}{\\left(\\phi \\right)} \\sin{\\left(\\theta \\right)} \\cos{\\left(\\theta \\right)} - r^{3} \\sin{\\left(\\phi \\right)} \\cos{\\left(\\phi \\right)}$"
      ],
      "text/plain": [
       " 4    3                     3              \n",
       "r ⋅sin (φ)⋅sin(θ)⋅cos(θ) - r ⋅sin(φ)⋅cos(φ)"
      ]
     },
     "execution_count": 85,
     "metadata": {},
     "output_type": "execute_result"
    }
   ],
   "source": [
    "((x* y - z ) * jacobian_determinant).expand()"
   ]
  },
  {
   "attachments": {},
   "cell_type": "markdown",
   "metadata": {},
   "source": [
    "Cylindrical"
   ]
  },
  {
   "cell_type": "code",
   "execution_count": 86,
   "metadata": {},
   "outputs": [
    {
     "data": {
      "image/png": "[encoded data removed]",
      "text/latex": [
       "$\\displaystyle r$"
      ],
      "text/plain": [
       "r"
      ]
     },
     "execution_count": 86,
     "metadata": {},
     "output_type": "execute_result"
    }
   ],
   "source": [
    "x = r * cos(theta) \n",
    "y = r * sin(theta)\n",
    "z = symbols(\"z\")\n",
    "F = Matrix([x, y, z])\n",
    "jacobian_matrix = F.jacobian([theta, r, z])\n",
    "jacobian_determinant = Abs(jacobian_matrix.det().simplify())\n",
    "jacobian_determinant =r \n",
    "jacobian_determinant"
   ]
  },
  {
   "cell_type": "code",
   "execution_count": 89,
   "metadata": {},
   "outputs": [
    {
     "data": {
      "image/png": "[encoded data removed]",
      "text/latex": [
       "$\\displaystyle r^{3} \\sin{\\left(\\theta \\right)} \\cos{\\left(\\theta \\right)} + r z$"
      ],
      "text/plain": [
       " 3                    \n",
       "r ⋅sin(θ)⋅cos(θ) + r⋅z"
      ]
     },
     "execution_count": 89,
     "metadata": {},
     "output_type": "execute_result"
    }
   ],
   "source": [
    "((x * y + z) * jacobian_determinant).expand()"
   ]
  },
  {
   "cell_type": "code",
   "execution_count": null,
   "metadata": {},
   "outputs": [],
   "source": []
  }
 ],
 "metadata": {
  "kernelspec": {
   "display_name": "Python 3",
   "language": "python",
   "name": "python3"
  },
  "language_info": {
   "codemirror_mode": {
    "name": "ipython",
    "version": 3
   },
   "file_extension": ".py",
   "mimetype": "text/x-python",
   "name": "python",
   "nbconvert_exporter": "python",
   "pygments_lexer": "ipython3",
   "version": "3.9.6"
  },
  "orig_nbformat": 4
 },
 "nbformat": 4,
 "nbformat_minor": 2
}
